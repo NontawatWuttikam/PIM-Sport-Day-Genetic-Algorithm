{
  "nbformat": 4,
  "nbformat_minor": 0,
  "metadata": {
    "colab": {
      "name": "Copy of Copy of GA.ipynb",
      "provenance": [],
      "collapsed_sections": []
    },
    "kernelspec": {
      "name": "python3",
      "display_name": "Python 3"
    },
    "language_info": {
      "name": "python"
    }
  },
  "cells": [
    {
      "cell_type": "code",
      "metadata": {
        "id": "55zEmbOakGf4"
      },
      "source": [
        "import numpy as np\n",
        "import matplotlib.pyplot as plt\n",
        "from scipy.io import loadmat"
      ],
      "execution_count": null,
      "outputs": []
    },
    {
      "cell_type": "code",
      "metadata": {
        "id": "O4IEtZ7jkSxt"
      },
      "source": [
        "x = 5 * np.random.rand(100) - 2.5\n",
        "y = x**4 + 5*x**3 + 6*x**2 + 3*x + 2\n",
        "plt.plot(x, y, '.')\n",
        "plt.show()"
      ],
      "execution_count": null,
      "outputs": []
    },
    {
      "cell_type": "code",
      "metadata": {
        "id": "CgsmizdPBRRJ"
      },
      "source": [
        "X = loadmat('HR1 (1).mat')"
      ],
      "execution_count": null,
      "outputs": []
    },
    {
      "cell_type": "code",
      "metadata": {
        "colab": {
          "base_uri": "https://localhost:8080/"
        },
        "id": "VTk0ccU0BgoZ",
        "outputId": "ffe222da-e443-444a-cf4b-456c9d2954b7"
      },
      "source": [
        "import random\n",
        "# map = np.unique(X['dep'],return_counts=True)\n",
        "dis_num = np.array(list(range(0,358)))\n",
        "Xsex = X['sex'].squeeze()\n",
        "Xdep = X['dep'].squeeze()\n",
        "\n",
        "gene = np.dstack((Xsex,Xdep,dis_num))\n",
        "gene = gene.squeeze()\n",
        "gene[2]\n",
        "# gene2 = gene.copy()\n",
        "# random.shuffle(gene2)\n",
        "# fitness(gene)\n",
        "# a = crossover(gene,gene2)\n",
        "# fitness(gene)\n",
        "# np.where(np.array([1,2,3,4,5]) == 5)\n",
        "# gene[0][2]\n",
        "\n",
        "# gene.squeeze()[0][0][0]"
      ],
      "execution_count": null,
      "outputs": [
        {
          "output_type": "execute_result",
          "data": {
            "text/plain": [
              "array([array(['ช'], dtype='<U1'), array(['สำนักอธิการบดี'], dtype='<U14'),\n",
              "       2], dtype=object)"
            ]
          },
          "metadata": {
            "tags": []
          },
          "execution_count": 7
        }
      ]
    },
    {
      "cell_type": "code",
      "metadata": {
        "id": "8mLNUoYWmo3y"
      },
      "source": [
        "import collections\n",
        "\n",
        "def fitness(pop):\n",
        "  er = []\n",
        "  for p in pop:\n",
        "    team1 = p[:179]\n",
        "    team2 = p[179:]\n",
        "    t1sex = {}\n",
        "    t2sex = {}\n",
        "    t1dep = {}\n",
        "    t2dep = {}\n",
        "    err = 0\n",
        "    for t1,t2 in zip(team1,team2):\n",
        "      if t1[0][0] not in t1sex:\n",
        "        t1sex[t1[0][0]] = 0\n",
        "      else:\n",
        "        t1sex[t1[0][0]] += 1\n",
        "      if t2[0][0] not in t2sex:\n",
        "        t2sex[t2[0][0]] = 0\n",
        "      else:\n",
        "        t2sex[t2[0][0]] += 1\n",
        "      if t1[1][0] not in t1dep:\n",
        "        t1dep[t1[1][0]] = 0\n",
        "      else:\n",
        "        t1dep[t1[1][0]] += 1\n",
        "      if t2[1][0] not in t2dep:\n",
        "        t2dep[t2[1][0]] = 0\n",
        "      else:\n",
        "        t2dep[t2[1][0]] += 1\n",
        "\n",
        "    k1 = t1sex.keys()\n",
        "    k2 = t2sex.keys()\n",
        "    for i in k1:\n",
        "      for j in k2:\n",
        "        if i == j:\n",
        "          err += np.abs(t1sex[i] - t2sex[i])\n",
        "\n",
        "    k1 = t1dep.keys()\n",
        "    k2 = t2dep.keys()\n",
        "    for i in k1:\n",
        "      for j in k2:\n",
        "        if i == j:\n",
        "          err += np.abs(t1dep[i] - t2dep[i])\n",
        "    er.append(err)\n",
        "\n",
        "  return np.array(er)\n",
        "\n",
        "def crossover(p1, p2):\n",
        "  child = p1.copy()\n",
        "  split = 179\n",
        "  half_p2 = p2[split:][:,2]\n",
        "  half_p1 = p1[split:][:,2]\n",
        "  for i in p1[:split][:,2]:\n",
        "    if i in half_p2:\n",
        "      half_p2 = np.delete(half_p2, np.argwhere(half_p2==i))\n",
        "  for j in half_p2:\n",
        "    if j in half_p1:\n",
        "      half_p1 = np.delete(half_p1, np.argwhere(half_p1==j))\n",
        "  newhalf = []\n",
        "\n",
        "\n",
        "  for k in np.concatenate((half_p1,half_p2)):\n",
        "    for l in p1:\n",
        "      if k == l[2]:\n",
        "        newhalf.append(l)\n",
        "  newhalf = np.array(newhalf)\n",
        "  \n",
        "  a = np.concatenate((p1[:split],newhalf))\n",
        "  return a\n",
        "    "
      ],
      "execution_count": null,
      "outputs": []
    },
    {
      "cell_type": "code",
      "metadata": {
        "colab": {
          "base_uri": "https://localhost:8080/"
        },
        "id": "sDwGWsN4Wgl8",
        "outputId": "6d4d6de5-d75d-416b-ac67-88463e025145"
      },
      "source": [
        "po = [[]] * 100\n",
        "import random\n",
        "for i in range(100):\n",
        "  po[i] = random.sample(list(gene), len(gene))   \n",
        "po = np.array(po)\n",
        "po[9]"
      ],
      "execution_count": null,
      "outputs": [
        {
          "output_type": "execute_result",
          "data": {
            "text/plain": [
              "array([[array(['ญ'], dtype='<U1'), array([' -'], dtype='<U2'), 133],\n",
              "       [array(['ญ'], dtype='<U1'),\n",
              "        array(['สำนักบริการวิชาการ'], dtype='<U18'), 346],\n",
              "       [array(['ญ'], dtype='<U1'),\n",
              "        array(['คณะวิศวกรรมศาสตร์และเทคโนโลยี'], dtype='<U29'), 220],\n",
              "       ...,\n",
              "       [array(['ญ'], dtype='<U1'),\n",
              "        array(['สำนักบริหารอาคารและทรัพย์สิน'], dtype='<U28'), 53],\n",
              "       [array(['ช'], dtype='<U1'),\n",
              "        array(['คณะบริหารธุรกิจ'], dtype='<U15'), 168],\n",
              "       [array(['ญ'], dtype='<U1'),\n",
              "        array(['สำนักอธิการบดี'], dtype='<U14'), 10]], dtype=object)"
            ]
          },
          "metadata": {
            "tags": []
          },
          "execution_count": 298
        }
      ]
    },
    {
      "cell_type": "code",
      "metadata": {
        "colab": {
          "base_uri": "https://localhost:8080/"
        },
        "id": "p1Rir0kZpmEJ",
        "outputId": "bf48f8f8-8643-45d0-aa39-9a582429156a"
      },
      "source": [
        "print(po[12])"
      ],
      "execution_count": null,
      "outputs": [
        {
          "output_type": "stream",
          "text": [
            "[[array(['ช'], dtype='<U1') array(['สำนักกิจการนักศึกษา'], dtype='<U19')\n",
            "  108]\n",
            " [array(['ญ'], dtype='<U1') array(['สำนักกิจการนักศึกษา'], dtype='<U19')\n",
            "  104]\n",
            " [array(['ญ'], dtype='<U1') array(['สำนักส่งเสริมวิชาการ'], dtype='<U20')\n",
            "  304]\n",
            " ...\n",
            " [array(['ญ'], dtype='<U1') array(['สำนักบริการวิชาการ'], dtype='<U18')\n",
            "  330]\n",
            " [array(['ช'], dtype='<U1') array(['คณะวิทยาการจัดการ'], dtype='<U17')\n",
            "  292]\n",
            " [array(['ญ'], dtype='<U1') array(['สำนักบัญชีและการเงิน'], dtype='<U20')\n",
            "  33]]\n"
          ],
          "name": "stdout"
        }
      ]
    },
    {
      "cell_type": "code",
      "metadata": {
        "colab": {
          "base_uri": "https://localhost:8080/",
          "height": 1000
        },
        "id": "ZUHsrV_XkskL",
        "outputId": "a3ba158f-03f8-4a3d-afb2-4c55c5a20044"
      },
      "source": [
        "n_pop = 100\n",
        "pop = po.copy()\n",
        "iter = 0\n",
        "oldf = 0\n",
        "while True:\n",
        "  # evaluation\n",
        "  f = fitness(pop)\n",
        "  # selection\n",
        "  idx = f.argsort()\n",
        "  pop = pop[idx]\n",
        "  print(iter, f[idx[0]])\n",
        "  iter += 1\n",
        "  # if f[idx[0]] < 1e-3 or abs(oldf-f[idx[0]]) < 1e-3:\n",
        "  #   break\n",
        "  oldf = f[idx[0]]\n",
        "  # reproduction\n",
        "  for i in range(50):\n",
        "    parents = pop[np.random.permutation(50)[:2]]\n",
        "    c1 = crossover(parents[0], parents[1])\n",
        "    pop[50 + i] = c1\n",
        "\n",
        "  # mutation\n",
        "  for i in np.random.permutation(100)[:30]:\n",
        "    # print('1',pop[i][:,2])\n",
        "    if i != 0:\n",
        "      temp = None\n",
        "      for _ in range(500):\n",
        "        idx1 = random.randint(0,99)\n",
        "        idx2 = idx1\n",
        "        while idx2 == idx1:\n",
        "          idx2 = random.randint(0,99)\n",
        "        temp = pop[i].copy()\n",
        "        t = temp[idx2].copy()\n",
        "        temp[idx2] = temp[idx1]\n",
        "        temp[idx1] = t\n",
        "      pop[i] = temp.copy()\n",
        "      np.random.shuffle(pop[i])"
      ],
      "execution_count": null,
      "outputs": [
        {
          "output_type": "stream",
          "text": [
            "0 37\n",
            "1 37\n",
            "2 37\n",
            "3 37\n",
            "4 35\n",
            "5 35\n",
            "6 35\n",
            "7 35\n",
            "8 35\n",
            "9 35\n",
            "10 35\n",
            "11 35\n",
            "12 35\n",
            "13 35\n",
            "14 35\n",
            "15 35\n",
            "16 35\n",
            "17 35\n",
            "18 35\n",
            "19 35\n",
            "20 31\n",
            "21 31\n",
            "22 31\n",
            "23 31\n",
            "24 31\n",
            "25 31\n",
            "26 31\n",
            "27 31\n",
            "28 31\n",
            "29 31\n",
            "30 31\n",
            "31 31\n",
            "32 31\n",
            "33 31\n",
            "34 31\n",
            "35 31\n",
            "36 31\n",
            "37 31\n",
            "38 31\n",
            "39 31\n",
            "40 31\n",
            "41 31\n",
            "42 31\n",
            "43 31\n",
            "44 31\n",
            "45 31\n",
            "46 31\n",
            "47 27\n",
            "48 27\n",
            "49 27\n",
            "50 27\n",
            "51 27\n",
            "52 27\n",
            "53 27\n",
            "54 27\n",
            "55 27\n",
            "56 27\n",
            "57 27\n",
            "58 27\n",
            "59 27\n",
            "60 27\n",
            "61 27\n",
            "62 27\n",
            "63 27\n",
            "64 27\n",
            "65 27\n",
            "66 27\n",
            "67 27\n",
            "68 27\n",
            "69 27\n",
            "70 27\n",
            "71 27\n",
            "72 27\n",
            "73 27\n",
            "74 27\n",
            "75 27\n",
            "76 27\n",
            "77 27\n",
            "78 27\n",
            "79 27\n",
            "80 27\n",
            "81 27\n",
            "82 27\n",
            "83 27\n",
            "84 27\n",
            "85 27\n",
            "86 27\n",
            "87 27\n",
            "88 27\n",
            "89 27\n",
            "90 27\n",
            "91 27\n",
            "92 27\n",
            "93 27\n",
            "94 27\n",
            "95 27\n",
            "96 27\n",
            "97 27\n",
            "98 27\n",
            "99 27\n",
            "100 27\n",
            "101 27\n",
            "102 27\n",
            "103 27\n",
            "104 27\n",
            "105 27\n",
            "106 27\n",
            "107 27\n",
            "108 27\n",
            "109 27\n",
            "110 27\n",
            "111 27\n",
            "112 27\n",
            "113 27\n",
            "114 27\n",
            "115 27\n",
            "116 27\n",
            "117 27\n",
            "118 27\n",
            "119 27\n",
            "120 27\n",
            "121 27\n",
            "122 27\n",
            "123 27\n",
            "124 27\n",
            "125 27\n",
            "126 27\n",
            "127 27\n",
            "128 27\n",
            "129 27\n",
            "130 27\n",
            "131 27\n",
            "132 27\n",
            "133 27\n",
            "134 27\n",
            "135 27\n"
          ],
          "name": "stdout"
        },
        {
          "output_type": "error",
          "ename": "KeyboardInterrupt",
          "evalue": "ignored",
          "traceback": [
            "\u001b[0;31m---------------------------------------------------------------------------\u001b[0m",
            "\u001b[0;31mKeyboardInterrupt\u001b[0m                         Traceback (most recent call last)",
            "\u001b[0;32m<ipython-input-304-a65c90e66b1d>\u001b[0m in \u001b[0;36m<module>\u001b[0;34m()\u001b[0m\n\u001b[1;32m     18\u001b[0m   \u001b[0;32mfor\u001b[0m \u001b[0mi\u001b[0m \u001b[0;32min\u001b[0m \u001b[0mrange\u001b[0m\u001b[0;34m(\u001b[0m\u001b[0;36m50\u001b[0m\u001b[0;34m)\u001b[0m\u001b[0;34m:\u001b[0m\u001b[0;34m\u001b[0m\u001b[0;34m\u001b[0m\u001b[0m\n\u001b[1;32m     19\u001b[0m     \u001b[0mparents\u001b[0m \u001b[0;34m=\u001b[0m \u001b[0mpop\u001b[0m\u001b[0;34m[\u001b[0m\u001b[0mnp\u001b[0m\u001b[0;34m.\u001b[0m\u001b[0mrandom\u001b[0m\u001b[0;34m.\u001b[0m\u001b[0mpermutation\u001b[0m\u001b[0;34m(\u001b[0m\u001b[0;36m50\u001b[0m\u001b[0;34m)\u001b[0m\u001b[0;34m[\u001b[0m\u001b[0;34m:\u001b[0m\u001b[0;36m2\u001b[0m\u001b[0;34m]\u001b[0m\u001b[0;34m]\u001b[0m\u001b[0;34m\u001b[0m\u001b[0;34m\u001b[0m\u001b[0m\n\u001b[0;32m---> 20\u001b[0;31m     \u001b[0mc1\u001b[0m \u001b[0;34m=\u001b[0m \u001b[0mcrossover\u001b[0m\u001b[0;34m(\u001b[0m\u001b[0mparents\u001b[0m\u001b[0;34m[\u001b[0m\u001b[0;36m0\u001b[0m\u001b[0;34m]\u001b[0m\u001b[0;34m,\u001b[0m \u001b[0mparents\u001b[0m\u001b[0;34m[\u001b[0m\u001b[0;36m1\u001b[0m\u001b[0;34m]\u001b[0m\u001b[0;34m)\u001b[0m\u001b[0;34m\u001b[0m\u001b[0;34m\u001b[0m\u001b[0m\n\u001b[0m\u001b[1;32m     21\u001b[0m     \u001b[0mpop\u001b[0m\u001b[0;34m[\u001b[0m\u001b[0;36m50\u001b[0m \u001b[0;34m+\u001b[0m \u001b[0mi\u001b[0m\u001b[0;34m]\u001b[0m \u001b[0;34m=\u001b[0m \u001b[0mc1\u001b[0m\u001b[0;34m\u001b[0m\u001b[0;34m\u001b[0m\u001b[0m\n\u001b[1;32m     22\u001b[0m     \u001b[0mal\u001b[0m\u001b[0;34m.\u001b[0m\u001b[0mappend\u001b[0m\u001b[0;34m(\u001b[0m\u001b[0mc1\u001b[0m\u001b[0;34m)\u001b[0m\u001b[0;34m\u001b[0m\u001b[0;34m\u001b[0m\u001b[0m\n",
            "\u001b[0;32m<ipython-input-259-4e9ac18071cc>\u001b[0m in \u001b[0;36mcrossover\u001b[0;34m(p1, p2)\u001b[0m\n\u001b[1;32m     61\u001b[0m \u001b[0;34m\u001b[0m\u001b[0m\n\u001b[1;32m     62\u001b[0m   \u001b[0;32mfor\u001b[0m \u001b[0mk\u001b[0m \u001b[0;32min\u001b[0m \u001b[0mnp\u001b[0m\u001b[0;34m.\u001b[0m\u001b[0mconcatenate\u001b[0m\u001b[0;34m(\u001b[0m\u001b[0;34m(\u001b[0m\u001b[0mhalf_p1\u001b[0m\u001b[0;34m,\u001b[0m\u001b[0mhalf_p2\u001b[0m\u001b[0;34m)\u001b[0m\u001b[0;34m)\u001b[0m\u001b[0;34m:\u001b[0m\u001b[0;34m\u001b[0m\u001b[0;34m\u001b[0m\u001b[0m\n\u001b[0;32m---> 63\u001b[0;31m     \u001b[0;32mfor\u001b[0m \u001b[0ml\u001b[0m \u001b[0;32min\u001b[0m \u001b[0mp1\u001b[0m\u001b[0;34m:\u001b[0m\u001b[0;34m\u001b[0m\u001b[0;34m\u001b[0m\u001b[0m\n\u001b[0m\u001b[1;32m     64\u001b[0m       \u001b[0;32mif\u001b[0m \u001b[0mk\u001b[0m \u001b[0;34m==\u001b[0m \u001b[0ml\u001b[0m\u001b[0;34m[\u001b[0m\u001b[0;36m2\u001b[0m\u001b[0;34m]\u001b[0m\u001b[0;34m:\u001b[0m\u001b[0;34m\u001b[0m\u001b[0;34m\u001b[0m\u001b[0m\n\u001b[1;32m     65\u001b[0m         \u001b[0mnewhalf\u001b[0m\u001b[0;34m.\u001b[0m\u001b[0mappend\u001b[0m\u001b[0;34m(\u001b[0m\u001b[0ml\u001b[0m\u001b[0;34m)\u001b[0m\u001b[0;34m\u001b[0m\u001b[0;34m\u001b[0m\u001b[0m\n",
            "\u001b[0;31mKeyboardInterrupt\u001b[0m: "
          ]
        }
      ]
    },
    {
      "cell_type": "code",
      "metadata": {
        "id": "DTfkcPeomwru"
      },
      "source": [
        "p = pop[0]\n",
        "# fitness(pop)\n",
        "# pop[10]"
      ],
      "execution_count": null,
      "outputs": []
    },
    {
      "cell_type": "code",
      "metadata": {
        "colab": {
          "base_uri": "https://localhost:8080/"
        },
        "id": "PYHtE6Eed78q",
        "outputId": "ec59cc97-7cf5-49fd-e3d4-9d000e39e1d5"
      },
      "source": [
        "e = fitness(pop)\n",
        "e[0]\n",
        "p[:,2]\n",
        "# np.unique(p[:,2],return_counts=True)"
      ],
      "execution_count": null,
      "outputs": [
        {
          "output_type": "execute_result",
          "data": {
            "text/plain": [
              "array([330, 171, 90, 121, 288, 126, 99, 107, 180, 286, 57, 302, 21, 3,\n",
              "       145, 268, 240, 225, 61, 238, 79, 298, 141, 227, 111, 293, 45, 50,\n",
              "       242, 280, 326, 216, 342, 250, 63, 15, 62, 19, 43, 223, 262, 205, 6,\n",
              "       139, 78, 49, 131, 137, 328, 144, 317, 290, 0, 271, 236, 136, 265,\n",
              "       284, 39, 147, 64, 207, 161, 48, 270, 196, 318, 195, 320, 148, 340,\n",
              "       176, 53, 113, 59, 220, 197, 71, 252, 5, 8, 312, 350, 243, 266, 94,\n",
              "       191, 331, 323, 263, 173, 345, 231, 106, 96, 119, 28, 76, 348, 125,\n",
              "       98, 276, 117, 81, 7, 325, 22, 4, 269, 324, 17, 322, 16, 30, 72,\n",
              "       202, 273, 162, 248, 120, 51, 160, 203, 356, 218, 247, 351, 337, 69,\n",
              "       73, 42, 11, 303, 327, 150, 292, 114, 206, 308, 54, 214, 339, 9, 35,\n",
              "       249, 24, 277, 13, 245, 56, 192, 86, 199, 166, 335, 186, 100, 338,\n",
              "       182, 124, 134, 34, 305, 135, 233, 212, 38, 311, 204, 299, 237, 127,\n",
              "       188, 334, 229, 295, 159, 164, 151, 304, 133, 18, 309, 278, 92, 313,\n",
              "       102, 291, 301, 193, 146, 215, 235, 251, 85, 23, 177, 14, 181, 228,\n",
              "       230, 281, 128, 184, 341, 41, 275, 46, 87, 246, 149, 52, 190, 234,\n",
              "       26, 179, 329, 189, 89, 168, 210, 314, 163, 97, 187, 156, 167, 122,\n",
              "       226, 104, 239, 343, 221, 142, 353, 101, 306, 307, 232, 83, 75, 296,\n",
              "       77, 32, 261, 254, 118, 211, 267, 155, 347, 209, 143, 29, 219, 257,\n",
              "       88, 224, 58, 282, 70, 316, 68, 244, 108, 260, 253, 116, 310, 82,\n",
              "       344, 67, 349, 321, 105, 12, 1, 319, 201, 132, 289, 130, 208, 255,\n",
              "       346, 170, 274, 213, 200, 194, 60, 169, 140, 33, 2, 354, 279, 183,\n",
              "       55, 10, 175, 297, 217, 36, 172, 165, 153, 198, 285, 272, 241, 20,\n",
              "       103, 31, 112, 40, 80, 95, 152, 93, 300, 47, 357, 283, 256, 27, 84,\n",
              "       157, 65, 74, 287, 315, 129, 158, 352, 332, 109, 294, 355, 259, 110,\n",
              "       185, 154, 336, 115, 333, 258, 222, 178, 123, 37, 44, 174, 91, 66,\n",
              "       138, 25, 264], dtype=object)"
            ]
          },
          "metadata": {
            "tags": []
          },
          "execution_count": 128
        }
      ]
    },
    {
      "cell_type": "code",
      "metadata": {
        "colab": {
          "base_uri": "https://localhost:8080/"
        },
        "id": "pv9cljlzeHVE",
        "outputId": "c3cf97ed-ae6a-4980-b8db-60df15424003"
      },
      "source": [
        "res = pop[0]\n",
        "sex = res[:,0]\n",
        "dep = res[:,1]\n",
        "t1sex = sex[:179]\n",
        "t2sex = sex[179:]\n",
        "t1dep = dep[:179]\n",
        "t2dep = dep[179:]\n",
        "\n",
        "t1s, t1sexCount = np.unique(t1sex, return_counts=True)\n",
        "t2s, t2sexCount = np.unique(t2sex, return_counts=True)\n",
        "t1d, t1depCount = np.unique(t1dep, return_counts=True)\n",
        "t2d, t2depCount = np.unique(t2dep, return_counts=True)\n",
        "\n",
        "print('init loss : 37')\n",
        "print('final loss : 27\\n')\n",
        "\n",
        "for i,j in zip(t1s,t1sexCount):\n",
        "  print('team 1 ',i[0],' : ', j) \n",
        "\n",
        "for i,j in zip(t2s,t2sexCount):\n",
        "  print('team 2 ',i[0],' : ', j) \n",
        "\n",
        "count = 0\n",
        "for i,j in zip(t1d,t1depCount):\n",
        "  for x,y in zip(t2d,t2depCount):\n",
        "    if i[0] == x[0]:\n",
        "      print('[',count,']',i[0],' : ', j,':',y) \n",
        "      count+=1\n"
      ],
      "execution_count": null,
      "outputs": [
        {
          "output_type": "stream",
          "text": [
            "init loss : 37\n",
            "final loss : 27\n",
            "\n",
            "team 1  ช  :  61\n",
            "team 1  ญ  :  118\n",
            "team 2  ช  :  61\n",
            "team 2  ญ  :  118\n",
            "[ 0 ]  -  :  3 : 3\n",
            "[ 1 ] คณะนิเทศศาสตร์  :  3 : 3\n",
            "[ 2 ] คณะบริหารธุรกิจ  :  33 : 39\n",
            "[ 3 ] คณะวิทยาการจัดการ  :  5 : 9\n",
            "[ 4 ] คณะวิศวกรรมศาสตร์และเทคโนโลยี  :  14 : 14\n",
            "[ 5 ] คณะศิลปศาสตร์  :  20 : 20\n",
            "[ 6 ] สำนักกิจการนักศึกษา  :  7 : 3\n",
            "[ 7 ] สำนักทรัพยากรมนุษย์  :  3 : 4\n",
            "[ 8 ] สำนักบริการวิชาการ  :  15 : 14\n",
            "[ 9 ] สำนักบริหารอาคารและทรัพย์สิน  :  10 : 9\n",
            "[ 10 ] สำนักบัญชีและการเงิน  :  5 : 5\n",
            "[ 11 ] สำนักพัฒนานักศึกษา  :  7 : 7\n",
            "[ 12 ] สำนักวิจัยและพัฒนา  :  4 : 4\n",
            "[ 13 ] สำนักสื่อสารองค์กร  :  19 : 13\n",
            "[ 14 ] สำนักส่งเสริมวิชาการ  :  11 : 11\n",
            "[ 15 ] สำนักส่งเสริมศิลปะและวัฒนธรรม  :  3 : 2\n",
            "[ 16 ] สำนักอธิการบดี  :  10 : 13\n",
            "[ 17 ] สำนักเทคโนโลยีสารสนเทศ  :  6 : 6\n"
          ],
          "name": "stdout"
        }
      ]
    },
    {
      "cell_type": "code",
      "metadata": {
        "colab": {
          "base_uri": "https://localhost:8080/"
        },
        "id": "hRqAB26JiGFb",
        "outputId": "e049e878-472d-491c-8214-7bc7734577b3"
      },
      "source": [
        "np.unique(X['sex'].squeeze(), return_counts=True)[1]\n",
        "# np.unique(res[:,0], return_counts=True)[1]\n"
      ],
      "execution_count": null,
      "outputs": [
        {
          "output_type": "execute_result",
          "data": {
            "text/plain": [
              "array([122, 236])"
            ]
          },
          "metadata": {
            "tags": []
          },
          "execution_count": 14
        }
      ]
    },
    {
      "cell_type": "code",
      "metadata": {
        "id": "kzRLQMOvq3jA"
      },
      "source": [
        "res[:,0]"
      ],
      "execution_count": null,
      "outputs": []
    },
    {
      "cell_type": "code",
      "metadata": {
        "id": "FxquteyktlCR"
      },
      "source": [
        ""
      ],
      "execution_count": null,
      "outputs": []
    }
  ]
}